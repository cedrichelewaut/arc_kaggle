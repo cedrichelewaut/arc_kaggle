{
 "cells": [
  {
   "cell_type": "code",
   "execution_count": 2,
   "metadata": {},
   "outputs": [],
   "source": [
    "from utils import *"
   ]
  },
  {
   "cell_type": "markdown",
   "metadata": {},
   "source": [
    "## Reading files"
   ]
  },
  {
   "cell_type": "code",
   "execution_count": 5,
   "metadata": {},
   "outputs": [],
   "source": [
    "training_challenges =  load_json('data/arc-agi_training_challenges.json')\n",
    "training_solutions =   load_json('data/arc-agi_training_solutions.json')\n",
    "\n",
    "evaluation_challenges =load_json('data/arc-agi_evaluation_challenges.json')\n",
    "evaluation_solutions = load_json('data/arc-agi_evaluation_solutions.json')\n",
    "\n",
    "test_challenges =  load_json('data/arc-agi_test_challenges.json')\n"
   ]
  },
  {
   "cell_type": "code",
   "execution_count": 12,
   "metadata": {},
   "outputs": [
    {
     "data": {
      "text/plain": [
       "{'test': [{'input': [[7, 0, 7], [7, 0, 7], [7, 7, 0]]}],\n",
       " 'train': [{'input': [[0, 7, 7], [7, 7, 7], [0, 7, 7]],\n",
       "   'output': [[0, 0, 0, 0, 7, 7, 0, 7, 7],\n",
       "    [0, 0, 0, 7, 7, 7, 7, 7, 7],\n",
       "    [0, 0, 0, 0, 7, 7, 0, 7, 7],\n",
       "    [0, 7, 7, 0, 7, 7, 0, 7, 7],\n",
       "    [7, 7, 7, 7, 7, 7, 7, 7, 7],\n",
       "    [0, 7, 7, 0, 7, 7, 0, 7, 7],\n",
       "    [0, 0, 0, 0, 7, 7, 0, 7, 7],\n",
       "    [0, 0, 0, 7, 7, 7, 7, 7, 7],\n",
       "    [0, 0, 0, 0, 7, 7, 0, 7, 7]]},\n",
       "  {'input': [[4, 0, 4], [0, 0, 0], [0, 4, 0]],\n",
       "   'output': [[4, 0, 4, 0, 0, 0, 4, 0, 4],\n",
       "    [0, 0, 0, 0, 0, 0, 0, 0, 0],\n",
       "    [0, 4, 0, 0, 0, 0, 0, 4, 0],\n",
       "    [0, 0, 0, 0, 0, 0, 0, 0, 0],\n",
       "    [0, 0, 0, 0, 0, 0, 0, 0, 0],\n",
       "    [0, 0, 0, 0, 0, 0, 0, 0, 0],\n",
       "    [0, 0, 0, 4, 0, 4, 0, 0, 0],\n",
       "    [0, 0, 0, 0, 0, 0, 0, 0, 0],\n",
       "    [0, 0, 0, 0, 4, 0, 0, 0, 0]]},\n",
       "  {'input': [[0, 0, 0], [0, 0, 2], [2, 0, 2]],\n",
       "   'output': [[0, 0, 0, 0, 0, 0, 0, 0, 0],\n",
       "    [0, 0, 0, 0, 0, 0, 0, 0, 0],\n",
       "    [0, 0, 0, 0, 0, 0, 0, 0, 0],\n",
       "    [0, 0, 0, 0, 0, 0, 0, 0, 0],\n",
       "    [0, 0, 0, 0, 0, 0, 0, 0, 2],\n",
       "    [0, 0, 0, 0, 0, 0, 2, 0, 2],\n",
       "    [0, 0, 0, 0, 0, 0, 0, 0, 0],\n",
       "    [0, 0, 2, 0, 0, 0, 0, 0, 2],\n",
       "    [2, 0, 2, 0, 0, 0, 2, 0, 2]]},\n",
       "  {'input': [[6, 6, 0], [6, 0, 0], [0, 6, 6]],\n",
       "   'output': [[6, 6, 0, 6, 6, 0, 0, 0, 0],\n",
       "    [6, 0, 0, 6, 0, 0, 0, 0, 0],\n",
       "    [0, 6, 6, 0, 6, 6, 0, 0, 0],\n",
       "    [6, 6, 0, 0, 0, 0, 0, 0, 0],\n",
       "    [6, 0, 0, 0, 0, 0, 0, 0, 0],\n",
       "    [0, 6, 6, 0, 0, 0, 0, 0, 0],\n",
       "    [0, 0, 0, 6, 6, 0, 6, 6, 0],\n",
       "    [0, 0, 0, 6, 0, 0, 6, 0, 0],\n",
       "    [0, 0, 0, 0, 6, 6, 0, 6, 6]]},\n",
       "  {'input': [[2, 2, 2], [0, 0, 0], [0, 2, 2]],\n",
       "   'output': [[2, 2, 2, 2, 2, 2, 2, 2, 2],\n",
       "    [0, 0, 0, 0, 0, 0, 0, 0, 0],\n",
       "    [0, 2, 2, 0, 2, 2, 0, 2, 2],\n",
       "    [0, 0, 0, 0, 0, 0, 0, 0, 0],\n",
       "    [0, 0, 0, 0, 0, 0, 0, 0, 0],\n",
       "    [0, 0, 0, 0, 0, 0, 0, 0, 0],\n",
       "    [0, 0, 0, 2, 2, 2, 2, 2, 2],\n",
       "    [0, 0, 0, 0, 0, 0, 0, 0, 0],\n",
       "    [0, 0, 0, 0, 2, 2, 0, 2, 2]]}]}"
      ]
     },
     "execution_count": 12,
     "metadata": {},
     "output_type": "execute_result"
    }
   ],
   "source": [
    "training_challenges['007bbfb7']"
   ]
  },
  {
   "cell_type": "code",
   "execution_count": 11,
   "metadata": {},
   "outputs": [
    {
     "data": {
      "text/plain": [
       "[[[7, 0, 7, 0, 0, 0, 7, 0, 7],\n",
       "  [7, 0, 7, 0, 0, 0, 7, 0, 7],\n",
       "  [7, 7, 0, 0, 0, 0, 7, 7, 0],\n",
       "  [7, 0, 7, 0, 0, 0, 7, 0, 7],\n",
       "  [7, 0, 7, 0, 0, 0, 7, 0, 7],\n",
       "  [7, 7, 0, 0, 0, 0, 7, 7, 0],\n",
       "  [7, 0, 7, 7, 0, 7, 0, 0, 0],\n",
       "  [7, 0, 7, 7, 0, 7, 0, 0, 0],\n",
       "  [7, 7, 0, 7, 7, 0, 0, 0, 0]]]"
      ]
     },
     "execution_count": 11,
     "metadata": {},
     "output_type": "execute_result"
    }
   ],
   "source": [
    "training_solutions['007bbfb7']"
   ]
  },
  {
   "cell_type": "code",
   "execution_count": null,
   "metadata": {},
   "outputs": [],
   "source": []
  }
 ],
 "metadata": {
  "kernelspec": {
   "display_name": "myenv",
   "language": "python",
   "name": "python3"
  },
  "language_info": {
   "codemirror_mode": {
    "name": "ipython",
    "version": 3
   },
   "file_extension": ".py",
   "mimetype": "text/x-python",
   "name": "python",
   "nbconvert_exporter": "python",
   "pygments_lexer": "ipython3",
   "version": "3.11.3"
  }
 },
 "nbformat": 4,
 "nbformat_minor": 2
}
